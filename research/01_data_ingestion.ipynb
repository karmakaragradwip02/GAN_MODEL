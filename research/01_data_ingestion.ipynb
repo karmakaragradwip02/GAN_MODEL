{
 "cells": [
  {
   "cell_type": "code",
   "execution_count": 1,
   "metadata": {},
   "outputs": [
    {
     "data": {
      "text/plain": [
       "'e:\\\\Deep Learning\\\\TENSORFLOW\\\\GAN_MODEL'"
      ]
     },
     "execution_count": 1,
     "metadata": {},
     "output_type": "execute_result"
    }
   ],
   "source": [
    "import os\n",
    "os.chdir(\"../\")\n",
    "%pwd"
   ]
  },
  {
   "cell_type": "code",
   "execution_count": 2,
   "metadata": {},
   "outputs": [],
   "source": [
    "from dataclasses import dataclass\n",
    "from pathlib import Path\n",
    "\n",
    "@dataclass(frozen= True)\n",
    "class DataIngestionConfig:\n",
    "    root_dir: Path\n",
    "    source_url: str\n",
    "    local_data_file: Path\n",
    "    unzip_dir: Path"
   ]
  },
  {
   "cell_type": "code",
   "execution_count": 3,
   "metadata": {},
   "outputs": [],
   "source": [
    "from src.GANGetStarted.constants import *\n",
    "from src.GANGetStarted.utils.common import read_yaml, create_directories"
   ]
  },
  {
   "cell_type": "code",
   "execution_count": 4,
   "metadata": {},
   "outputs": [],
   "source": [
    "class ConfigureationManager:\n",
    "    def __init__(self,\n",
    "            config_filepath = CONFIG_FILE_PATH,\n",
    "            params_filepath = PARAMS_FILE_PATH):\n",
    "        \n",
    "        self.config = read_yaml(config_filepath)\n",
    "        self.params = read_yaml(params_filepath)\n",
    "\n",
    "        create_directories([self.config.artifacts_root])\n",
    "\n",
    "    def get_data_ingestion_config(self) -> DataIngestionConfig:\n",
    "        config = self.config.data_ingestion\n",
    "\n",
    "        create_directories([config.root_dir])\n",
    "\n",
    "        data_ingestion_cofig = DataIngestionConfig(\n",
    "            root_dir = config.root_dir,\n",
    "            source_url = config.source_url,\n",
    "            local_data_file = config.local_data_file,\n",
    "            unzip_dir = config.unzip_dir\n",
    "        )\n",
    "\n",
    "        return data_ingestion_cofig"
   ]
  },
  {
   "cell_type": "code",
   "execution_count": 5,
   "metadata": {},
   "outputs": [],
   "source": [
    "import os\n",
    "import threading\n",
    "import time\n",
    "import sys\n",
    "import shutil\n",
    "import random\n",
    "import gdown\n",
    "import zipfile\n",
    "from src.GANGetStarted import logger"
   ]
  },
  {
   "cell_type": "code",
   "execution_count": 6,
   "metadata": {},
   "outputs": [],
   "source": [
    "class DataIngestion:\n",
    "    def __init__(self, config: DataIngestionConfig):\n",
    "        self.config = config\n",
    "        self.stop_animation = False\n",
    "        self.current_message = \"\"\n",
    "        self.animation_lock = threading.Lock()\n",
    "    \n",
    "    def animate(self):\n",
    "        symbols = ['-', '\\\\', '|', '/']\n",
    "        i = 0\n",
    "        while not self.stop_animation:\n",
    "            with self.animation_lock:\n",
    "                message = self.current_message\n",
    "            sys.stdout.write(f\"\\r{message} {symbols[i % len(symbols)]}\")\n",
    "            sys.stdout.flush()\n",
    "            time.sleep(0.1)\n",
    "            i += 1\n",
    "    \n",
    "    def download_data(self) -> str:\n",
    "        try:\n",
    "            data_url = self.config.source_url\n",
    "            zip_download_dir = self.config.local_data_file\n",
    "            os.makedirs(\"artifacts/data_ingestion\", exist_ok=True)\n",
    "            logger.info(f\"Downloading data from {data_url} into file {zip_download_dir}\")\n",
    "\n",
    "            file_id = data_url.split(\"/\")[-2]\n",
    "            prefix = 'https://drive.google.com/uc?/export=download&id='\n",
    "            gdown.download(prefix + file_id, zip_download_dir)\n",
    "\n",
    "            logger.info(f\"Downloaded data from {data_url} into file {zip_download_dir}\")\n",
    "        except Exception as e:\n",
    "            raise e\n",
    "        \n",
    "    def unzip_data(self):\n",
    "        try:\n",
    "            unzip_path = self.config.unzip_dir\n",
    "            zip_download_dir = self.config.local_data_file\n",
    "            os.makedirs(unzip_path, exist_ok=True)\n",
    "            logger.info(f\"Unzipping data from {zip_download_dir} into file {unzip_path}\")\n",
    "            \n",
    "            with zipfile.ZipFile(zip_download_dir, 'r') as zip_ref:\n",
    "                total_files = len(zip_ref.infolist())\n",
    "                start_time = time.time()\n",
    "                extracted_files = 0\n",
    "\n",
    "                # Start the animation thread\n",
    "                self.stop_animation = False\n",
    "                animation_thread = threading.Thread(target=self.animate)\n",
    "                animation_thread.start()\n",
    "\n",
    "                for file in zip_ref.infolist():\n",
    "                    zip_ref.extract(file, unzip_path)\n",
    "                    extracted_files += 1\n",
    "                    elapsed_time = time.time() - start_time\n",
    "                    remaining_files = total_files - extracted_files\n",
    "                    estimated_total_time = elapsed_time / extracted_files * total_files\n",
    "                    estimated_remaining_time = estimated_total_time - elapsed_time\n",
    "                    minutes, seconds = divmod(estimated_remaining_time, 60)\n",
    "                    time_remaining = f\"{int(minutes)}m {int(seconds)}s\"\n",
    "                    \n",
    "                    with self.animation_lock:\n",
    "                        self.current_message = f\"Unzipping data {' ' * (len(str(total_files)) - len(str(extracted_files)))}{extracted_files}/{total_files} - Estimated time remaining: {time_remaining}\"\n",
    "            \n",
    "            # Stop the animation\n",
    "            self.stop_animation = True\n",
    "            animation_thread.join()\n",
    "\n",
    "            logger.info(f\"Unzipping completed data from {zip_download_dir} into file {unzip_path}\")\n",
    "        except Exception as e:\n",
    "            self.stop_animation = True\n",
    "            raise e"
   ]
  },
  {
   "cell_type": "code",
   "execution_count": 7,
   "metadata": {},
   "outputs": [
    {
     "name": "stdout",
     "output_type": "stream",
     "text": [
      "[2024-07-11 22:05:48,850: INFO: common: yaml file: config\\config.yaml loaded successfully]\n",
      "[2024-07-11 22:05:48,868: INFO: common: yaml file: params.yaml loaded successfully]\n",
      "[2024-07-11 22:05:48,868: INFO: common: created directory at: artifacts]\n",
      "[2024-07-11 22:05:48,868: INFO: common: created directory at: artifacts/data_ingestion]\n",
      "[2024-07-11 22:05:48,868: INFO: 1682826885: Downloading data from https://drive.google.com/file/d/153Gdeo7N0_MX1eE98KL0gqzWradpv6lx/view?usp=sharing into file artifacts/data_ingestion/data.zip]\n"
     ]
    },
    {
     "name": "stderr",
     "output_type": "stream",
     "text": [
      "Downloading...\n",
      "From (original): https://drive.google.com/uc?/export=download&id=153Gdeo7N0_MX1eE98KL0gqzWradpv6lx\n",
      "From (redirected): https://drive.google.com/uc?%2Fexport=download&id=153Gdeo7N0_MX1eE98KL0gqzWradpv6lx&confirm=t&uuid=c0e97a5f-b78e-4b85-84f5-258ed130b604\n",
      "To: e:\\Deep Learning\\TENSORFLOW\\GAN_MODEL\\artifacts\\data_ingestion\\data.zip\n",
      "100%|██████████| 385M/385M [01:16<00:00, 5.01MB/s] "
     ]
    },
    {
     "name": "stdout",
     "output_type": "stream",
     "text": [
      "[2024-07-11 22:07:08,283: INFO: 1682826885: Downloaded data from https://drive.google.com/file/d/153Gdeo7N0_MX1eE98KL0gqzWradpv6lx/view?usp=sharing into file artifacts/data_ingestion/data.zip]\n"
     ]
    },
    {
     "name": "stderr",
     "output_type": "stream",
     "text": [
      "\n"
     ]
    },
    {
     "name": "stdout",
     "output_type": "stream",
     "text": [
      "[2024-07-11 22:07:08,284: INFO: 1682826885: Unzipping data from artifacts/data_ingestion/data.zip into file artifacts/data_ingestion]\n",
      "Unzipping data 7362/7363 - Estimated time remaining: 0m 0s -\\[2024-07-11 22:07:20,091: INFO: 1682826885: Unzipping completed data from artifacts/data_ingestion/data.zip into file artifacts/data_ingestion]\n"
     ]
    }
   ],
   "source": [
    "try:\n",
    "    config = ConfigureationManager()\n",
    "    data_ingestion_config = config.get_data_ingestion_config()\n",
    "    data_ingestion = DataIngestion(config=data_ingestion_config)\n",
    "    data_ingestion.download_data()\n",
    "    data_ingestion.unzip_data()\n",
    "except Exception as e:\n",
    "    raise e"
   ]
  }
 ],
 "metadata": {
  "kernelspec": {
   "display_name": "gan_cnn",
   "language": "python",
   "name": "python3"
  },
  "language_info": {
   "codemirror_mode": {
    "name": "ipython",
    "version": 3
   },
   "file_extension": ".py",
   "mimetype": "text/x-python",
   "name": "python",
   "nbconvert_exporter": "python",
   "pygments_lexer": "ipython3",
   "version": "3.8.19"
  }
 },
 "nbformat": 4,
 "nbformat_minor": 2
}
